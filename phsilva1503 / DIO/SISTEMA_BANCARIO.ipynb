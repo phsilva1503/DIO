{
  "nbformat": 4,
  "nbformat_minor": 0,
  "metadata": {
    "colab": {
      "provenance": [],
      "authorship_tag": "ABX9TyMIverIixgh/U/KL+3liOzF",
      "include_colab_link": true
    },
    "kernelspec": {
      "name": "python3",
      "display_name": "Python 3"
    },
    "language_info": {
      "name": "python"
    }
  },
  "cells": [
    {
      "cell_type": "markdown",
      "metadata": {
        "id": "view-in-github",
        "colab_type": "text"
      },
      "source": [
        "<a href=\"https://colab.research.google.com/github/phsilva1503/DIO/blob/main/phsilva1503%20/%20DIO/SISTEMA_BANCARIO.ipynb\" target=\"_parent\"><img src=\"https://colab.research.google.com/assets/colab-badge.svg\" alt=\"Open In Colab\"/></a>"
      ]
    },
    {
      "cell_type": "code",
      "execution_count": null,
      "metadata": {
        "colab": {
          "base_uri": "https://localhost:8080/",
          "height": 400
        },
        "id": "svSgZ-Wub8qV",
        "outputId": "9abf1755-0ad4-4832-ed12-4e41acf7109a"
      },
      "outputs": [
        {
          "output_type": "error",
          "ename": "KeyboardInterrupt",
          "evalue": "ignored",
          "traceback": [
            "\u001b[0;31m---------------------------------------------------------------------------\u001b[0m",
            "\u001b[0;31mKeyboardInterrupt\u001b[0m                         Traceback (most recent call last)",
            "\u001b[0;32m<ipython-input-39-23f560a45813>\u001b[0m in \u001b[0;36m<module>\u001b[0;34m\u001b[0m\n\u001b[1;32m     19\u001b[0m \u001b[0;34m\u001b[0m\u001b[0m\n\u001b[1;32m     20\u001b[0m \u001b[0;32mwhile\u001b[0m \u001b[0;32mTrue\u001b[0m\u001b[0;34m:\u001b[0m\u001b[0;34m\u001b[0m\u001b[0;34m\u001b[0m\u001b[0m\n\u001b[0;32m---> 21\u001b[0;31m   \u001b[0mopcao\u001b[0m \u001b[0;34m=\u001b[0m \u001b[0minput\u001b[0m\u001b[0;34m(\u001b[0m\u001b[0mmenu\u001b[0m\u001b[0;34m)\u001b[0m\u001b[0;34m\u001b[0m\u001b[0;34m\u001b[0m\u001b[0m\n\u001b[0m\u001b[1;32m     22\u001b[0m \u001b[0;34m\u001b[0m\u001b[0m\n\u001b[1;32m     23\u001b[0m \u001b[0;31m#opção de depossito\u001b[0m\u001b[0;34m\u001b[0m\u001b[0;34m\u001b[0m\u001b[0;34m\u001b[0m\u001b[0m\n",
            "\u001b[0;32m/usr/local/lib/python3.8/dist-packages/ipykernel/kernelbase.py\u001b[0m in \u001b[0;36mraw_input\u001b[0;34m(self, prompt)\u001b[0m\n\u001b[1;32m    858\u001b[0m                 \u001b[0;34m\"raw_input was called, but this frontend does not support input requests.\"\u001b[0m\u001b[0;34m\u001b[0m\u001b[0;34m\u001b[0m\u001b[0m\n\u001b[1;32m    859\u001b[0m             )\n\u001b[0;32m--> 860\u001b[0;31m         return self._input_request(str(prompt),\n\u001b[0m\u001b[1;32m    861\u001b[0m             \u001b[0mself\u001b[0m\u001b[0;34m.\u001b[0m\u001b[0m_parent_ident\u001b[0m\u001b[0;34m,\u001b[0m\u001b[0;34m\u001b[0m\u001b[0;34m\u001b[0m\u001b[0m\n\u001b[1;32m    862\u001b[0m             \u001b[0mself\u001b[0m\u001b[0;34m.\u001b[0m\u001b[0m_parent_header\u001b[0m\u001b[0;34m,\u001b[0m\u001b[0;34m\u001b[0m\u001b[0;34m\u001b[0m\u001b[0m\n",
            "\u001b[0;32m/usr/local/lib/python3.8/dist-packages/ipykernel/kernelbase.py\u001b[0m in \u001b[0;36m_input_request\u001b[0;34m(self, prompt, ident, parent, password)\u001b[0m\n\u001b[1;32m    902\u001b[0m             \u001b[0;32mexcept\u001b[0m \u001b[0mKeyboardInterrupt\u001b[0m\u001b[0;34m:\u001b[0m\u001b[0;34m\u001b[0m\u001b[0;34m\u001b[0m\u001b[0m\n\u001b[1;32m    903\u001b[0m                 \u001b[0;31m# re-raise KeyboardInterrupt, to truncate traceback\u001b[0m\u001b[0;34m\u001b[0m\u001b[0;34m\u001b[0m\u001b[0;34m\u001b[0m\u001b[0m\n\u001b[0;32m--> 904\u001b[0;31m                 \u001b[0;32mraise\u001b[0m \u001b[0mKeyboardInterrupt\u001b[0m\u001b[0;34m(\u001b[0m\u001b[0;34m\"Interrupted by user\"\u001b[0m\u001b[0;34m)\u001b[0m \u001b[0;32mfrom\u001b[0m \u001b[0;32mNone\u001b[0m\u001b[0;34m\u001b[0m\u001b[0;34m\u001b[0m\u001b[0m\n\u001b[0m\u001b[1;32m    905\u001b[0m             \u001b[0;32mexcept\u001b[0m \u001b[0mException\u001b[0m \u001b[0;32mas\u001b[0m \u001b[0me\u001b[0m\u001b[0;34m:\u001b[0m\u001b[0;34m\u001b[0m\u001b[0;34m\u001b[0m\u001b[0m\n\u001b[1;32m    906\u001b[0m                 \u001b[0mself\u001b[0m\u001b[0;34m.\u001b[0m\u001b[0mlog\u001b[0m\u001b[0;34m.\u001b[0m\u001b[0mwarning\u001b[0m\u001b[0;34m(\u001b[0m\u001b[0;34m\"Invalid Message:\"\u001b[0m\u001b[0;34m,\u001b[0m \u001b[0mexc_info\u001b[0m\u001b[0;34m=\u001b[0m\u001b[0;32mTrue\u001b[0m\u001b[0;34m)\u001b[0m\u001b[0;34m\u001b[0m\u001b[0;34m\u001b[0m\u001b[0m\n",
            "\u001b[0;31mKeyboardInterrupt\u001b[0m: Interrupted by user"
          ]
        }
      ],
      "source": [
        "menu = \"\"\"\n",
        "\n",
        "\n",
        "[d] Deposita\n",
        "[s] Sacar\n",
        "[e] Extrato\n",
        "[q] Sair\n",
        "[a] Alterar limite de saques\n",
        "[c] Consultar quantidade de saques\n",
        "[l] ALterar limite de saque \n",
        "\n",
        "=>\"\"\"\n",
        "\n",
        "saldo = 0\n",
        "limite = 500\n",
        "extrato = \"\"\n",
        "numero_saques = 0\n",
        "LIMITE_SAQUES = 3\n",
        "\n",
        "while True:\n",
        "  opcao = input(menu)\n",
        "\n",
        "#opção de depossito\n",
        "  if opcao ==\"d\": #se opção recebe \"d\"\n",
        "    valor = float(input(\"Insira o valor do deposito: \"))\n",
        "\n",
        "    if valor > 0:\n",
        "      print(f\"Valor adicionado: R$ {valor:.2f}\")\n",
        "      saldo += valor\n",
        "      print(f\"seu saldo é de: R$ {saldo:.2f}\")\n",
        "      extrato += f\"Deposito: R$ {valor:.2f} \\n\"\n",
        "    \n",
        "    else:\n",
        "      print(\"Operação falhou! valor informado errado\")\n",
        "# Opção de saque\n",
        "  elif opcao ==\"s\":\n",
        "    valor = float(input(\"Informe o valor que deseja sacar: \"))\n",
        "\n",
        "    excedeu_saldo = valor > saldo\n",
        "    excedeu_limite = valor > limite\n",
        "    excedeu_saques = numero_saques >= LIMITE_SAQUES\n",
        "\n",
        "\n",
        "    if excedeu_saldo:\n",
        "      print(\"Operação falhou! você não tem saldo suficiente\")\n",
        "\n",
        "    elif excedeu_limite:\n",
        "      print(\"Operação falhou! O valor de saque excede o limite\")\n",
        "    \n",
        "    elif excedeu_saques:\n",
        "      print(\"Operação falhou! Limite de saques excedido\")\n",
        "\n",
        "    elif valor > 0:\n",
        "      saldo -= valor\n",
        "      print(f\"seu saldo é de: R$ {saldo:.2f}\")\n",
        "      extrato += f\"saque: R$ {valor:.2f}\\n\"\n",
        "      numero_saques += 1\n",
        "      \n",
        "\n",
        "    else:\n",
        "      print (\"Operação falhou! O valor é invalido.\")\n",
        "\n",
        "#opção de extrato\n",
        "  elif opcao ==\"e\":\n",
        "    print(\"+++++++++EXTRATO++++++++++\")\n",
        "    print(\"Não foram realizadas movimentações.\" if not extrato else extrato)\n",
        "    print(f\"\\nSaldo: R$ {saldo:.2f}\")\n",
        "    print(\"++++++++++++++++++++++++++\")\n",
        "\n",
        "#Opção de alterar o limite de saques diario\n",
        "  elif opcao == \"a\":\n",
        "    novo_limite_saque = int(input(\"Insira o novo limite de saques diarios\"))\n",
        "    LIMITE_SAQUES= novo_limite_saque\n",
        "    print(f\"seu novo limite de saque diario é: {LIMITE_SAQUES}\")\n",
        "\n",
        "#Opção de consultar a quantidade de saques realizados \n",
        "  elif opcao == \"c\":\n",
        "    print(\"Seu limite de saques diario é: \", numero_saques)\n",
        "\n",
        "# Alterar o limite de saque diario\n",
        "\n",
        "  elif opcao == \"l\":\n",
        "    novo_valor_limite_saque = float(input(\"Insira o novo valor limite de saque\"))\n",
        "    limite = novo_valor_limite_saque\n",
        "    print(\"seu novo limite de saque é: \", limite)\n",
        "\n",
        "\n",
        "#opçao de saida\n",
        "  elif opcao == \"q\":\n",
        "    break\n",
        "\n",
        "  else:\n",
        "    print(\"Opção invalida,por favor, selecione uma opção valida\")\n"
      ]
    }
  ]
}